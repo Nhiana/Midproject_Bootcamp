{
 "cells": [
  {
   "cell_type": "raw",
   "id": "22dbba77-4067-47fe-b373-d006ac055b25",
   "metadata": {},
   "source": [
    "Analyzing Factors Contributing to Car Crashes: A Comprehensive Study\n",
    "\n",
    "Understanding Car Crash Dynamic: \n",
    "- Patterns\n",
    "- Causes\n",
    "- Trends\n",
    "\n",
    "This project deals with car crash data. It analyzes the locations, weather conditions, and road conditions associated witcar crashes.h "
   ]
  },
  {
   "cell_type": "code",
   "execution_count": 1,
   "id": "c5e9609d-36e8-476b-b0ff-23d1fbd94d83",
   "metadata": {},
   "outputs": [],
   "source": [
    "import pandas as pd\n",
    "import numpy as np\n",
    "import seaborn as sns\n",
    "import matplotlib.pyplot as plt\n",
    "%matplotlib inline"
   ]
  },
  {
   "cell_type": "code",
   "execution_count": 2,
   "id": "d01828c5-3afe-4621-8671-b68a53f3a7d6",
   "metadata": {},
   "outputs": [
    {
     "name": "stderr",
     "output_type": "stream",
     "text": [
      "C:\\Users\\Omar\\AppData\\Local\\Temp\\ipykernel_21492\\1727040306.py:1: DtypeWarning: Columns (1) have mixed types. Specify dtype option on import or set low_memory=False.\n",
      "  data= pd.read_csv('..\\data\\Crash_Data.csv')\n"
     ]
    }
   ],
   "source": [
    "data= pd.read_csv('..\\data\\Crash_Data.csv')"
   ]
  },
  {
   "cell_type": "markdown",
   "id": "fd18e059-b0c4-4b13-a037-5570a14993af",
   "metadata": {},
   "source": [
    "# Data Cleaning"
   ]
  },
  {
   "cell_type": "code",
   "execution_count": 3,
   "id": "65a06420-5cb2-4209-98b8-74c8f958da7f",
   "metadata": {},
   "outputs": [
    {
     "name": "stdout",
     "output_type": "stream",
     "text": [
      "Overwriting functions.py\n"
     ]
    }
   ],
   "source": [
    "%%writefile functions.py\n",
    "\n",
    "import pandas as pd\n",
    "import numpy as np\n",
    "\n",
    "def column_rename (df: pd.DataFrame) -> pd.DataFrame:\n",
    "    \"\"\"\n",
    "    This function renames column names by removing spaces and converting to lower case\n",
    "    Inputs: df of type pandas dataframe\n",
    "    Outputs: returns the dataframe with the renamed columns\n",
    "    \"\"\"\n",
    "    cols =[]\n",
    "    for x in df.columns:\n",
    "        if isinstance(x, str):\n",
    "            cols.append(x.lower().replace(' ', '_'))\n",
    "        else:\n",
    "            cols.append(x)\n",
    "            \n",
    "    df.columns=cols\n",
    "    return df\n",
    "\n",
    "\n",
    "\n",
    "def col_replace_dash (df: pd.DataFrame) -> pd.DataFrame:\n",
    "    \"\"\"\n",
    "    This function renames column names by removing spaces and converting to lower case\n",
    "    Inputs: df of type pandas dataframe\n",
    "    Outputs: returns the dataframe with the renamed columns\n",
    "    \"\"\"\n",
    "    cols =[]\n",
    "    for x in df.columns:\n",
    "        if isinstance(x, str):\n",
    "            cols.append(x.lower().replace('-', '_'))\n",
    "        else:\n",
    "            cols.append(x)\n",
    "            \n",
    "    df.columns=cols\n",
    "    return df\n",
    "\n",
    "\n",
    "\n",
    "def clean_agency_name (df: pd.DataFrame) -> pd.DataFrame:\n",
    "    \"\"\"\n",
    "    This function groups the same values of the agency name column\n",
    "    It uses a dictionary to replace the redundant values\n",
    "    Inputs: df type pandas dataframe\n",
    "    Outputs: returns the dataframe with the renamed columns\n",
    "    \"\"\"\n",
    "    new_row_values = {'montgomery county police': 'montgomery', 'rockville police departme' : 'rockville', 'gaithersburg police depar' : 'gaithersburg',\n",
    "    'takoma park police depart': 'takoma', 'maryland-national capital': 'maryland'}\n",
    "    df['agency_name']= df['agency_name'].replace(new_row_values)\n",
    "    return df\n",
    "\n",
    "\n",
    "def clean_collision_type(df: pd.DataFrame) -> pd.DataFrame:\n",
    "    \"\"\"\n",
    "    This function renames the clean collision type column\n",
    "    It uses combination of regex and a dictionary to do so\n",
    "    Inputs: df of type pandas dataframe\n",
    "    Outputs: returns the dataframe with the renamed values\n",
    "    \"\"\"\n",
    "    replace_short= {'\\\\bdir\\\\b' : 'direction', '\\\\brend\\\\b' : 'rear end'}\n",
    "    df['collision_type']= df['collision_type'].replace(replace_short, regex=True)\n",
    "    return df\n",
    "    \n",
    "    \n",
    "def df_to_lower (df: pd.DataFrame) -> pd.DataFrame:\n",
    "    \"\"\"\n",
    "    This function converts all the values in all the columns to lower case\n",
    "    Inputs: df of type pandas dataframe\n",
    "    Outputs: returns the dataframe with the string values in lower case\n",
    "    \"\"\"\n",
    "    df = df.map(lambda x: x.lower() if isinstance(x, str) else x)\n",
    "    return df\n",
    "\n",
    "\n",
    "def replace_invalids_of_column(df: pd.DataFrame, num_replacements: float, replacement_value:str, col_to_clean: str) -> pd.DataFrame:\n",
    "    \"\"\"\n",
    "    This function removes the invalid values from the given column\n",
    "    Inputs: df of type pandas dataframe, the values that will replace the invalid values, and their frequencies\n",
    "    Outputs: returns dataframe with the replaced invalid values\n",
    "    \"\"\"\n",
    "    invalid_indices= df[df[col_to_clean] == 'invalid'].index\n",
    "    selected_indices = np.random.choice(invalid_indices, size=num_replacements, replace=False)\n",
    "    df.loc[selected_indices, col_to_clean] = replacement_value\n",
    "    return df\n"
   ]
  },
  {
   "cell_type": "code",
   "execution_count": 4,
   "id": "237f54fa-3f1a-4647-9627-94950fb0246b",
   "metadata": {},
   "outputs": [],
   "source": [
    "df= data.copy()"
   ]
  },
  {
   "cell_type": "code",
   "execution_count": 5,
   "id": "a38fb4b5-6561-4c59-b600-8ce483b6960b",
   "metadata": {},
   "outputs": [],
   "source": [
    "%run functions.py"
   ]
  },
  {
   "cell_type": "code",
   "execution_count": 6,
   "id": "3990d892-15fd-482a-8efd-246ed9cae598",
   "metadata": {},
   "outputs": [
    {
     "data": {
      "text/plain": [
       "(84278, 44)"
      ]
     },
     "execution_count": 6,
     "metadata": {},
     "output_type": "execute_result"
    }
   ],
   "source": [
    "df= col_replace_dash(df)\n",
    "df= column_rename(df)\n",
    "df= df_to_lower(df)\n",
    "df.head()\n",
    "df.shape"
   ]
  },
  {
   "cell_type": "code",
   "execution_count": 7,
   "id": "7fd6af04-d908-417b-a931-0354bd1f63f5",
   "metadata": {},
   "outputs": [
    {
     "data": {
      "text/plain": [
       "agency_name\n",
       "montgomery      72826\n",
       "rockville        5171\n",
       "gaithersburg     3918\n",
       "takoma           1619\n",
       "maryland          692\n",
       "mcpark             52\n",
       "Name: count, dtype: int64"
      ]
     },
     "execution_count": 7,
     "metadata": {},
     "output_type": "execute_result"
    }
   ],
   "source": [
    "df= clean_agency_name(df)\n",
    "df['agency_name'].value_counts(dropna=False)"
   ]
  },
  {
   "cell_type": "code",
   "execution_count": 8,
   "id": "8789c3b0-ff40-4a9f-b53d-6fd5a357ebfa",
   "metadata": {},
   "outputs": [
    {
     "data": {
      "text/plain": [
       "0       2019-09-27 09:38:00\n",
       "1       2021-01-16 21:24:00\n",
       "2       2021-09-27 15:00:00\n",
       "3       2022-01-07 19:00:00\n",
       "4       2020-05-02 14:16:00\n",
       "                ...        \n",
       "84273   2022-10-13 14:30:00\n",
       "84274   2022-10-09 19:45:00\n",
       "84275   2022-10-17 12:55:00\n",
       "84276   2022-10-16 11:00:00\n",
       "84277   2022-09-15 20:00:00\n",
       "Name: crash_date/time, Length: 84278, dtype: datetime64[ns]"
      ]
     },
     "execution_count": 8,
     "metadata": {},
     "output_type": "execute_result"
    }
   ],
   "source": [
    "#after checking the datatypes of the columns, we decided to cast the crash_date/time column to datetime datatype \n",
    "df['crash_date/time']=pd.to_datetime(df['crash_date/time'], format=\"%m/%d/%Y %I:%M:%S %p\")\n",
    "type(df['crash_date/time'])\n",
    "df['crash_date/time']"
   ]
  },
  {
   "cell_type": "code",
   "execution_count": 9,
   "id": "75ebebed-8a4a-4393-b233-c0752b265e31",
   "metadata": {},
   "outputs": [
    {
     "name": "stdout",
     "output_type": "stream",
     "text": [
      "<class 'pandas.core.frame.DataFrame'>\n",
      "RangeIndex: 84278 entries, 0 to 84277\n",
      "Data columns (total 44 columns):\n",
      " #   Column                        Non-Null Count  Dtype         \n",
      "---  ------                        --------------  -----         \n",
      " 0   report_number                 84278 non-null  object        \n",
      " 1   local_case_number             84278 non-null  object        \n",
      " 2   agency_name                   84278 non-null  object        \n",
      " 3   acrs_report_type              84278 non-null  object        \n",
      " 4   crash_date/time               84278 non-null  datetime64[ns]\n",
      " 5   hit/run                       84276 non-null  object        \n",
      " 6   route_type                    73060 non-null  object        \n",
      " 7   mile_point                    73563 non-null  float64       \n",
      " 8   mile_point_direction          73071 non-null  object        \n",
      " 9   lane_direction                73574 non-null  object        \n",
      " 10  lane_number                   84278 non-null  int64         \n",
      " 11  lane_type                     8151 non-null   object        \n",
      " 12  number_of_lanes               84278 non-null  int64         \n",
      " 13  direction                     73563 non-null  object        \n",
      " 14  distance                      75428 non-null  float64       \n",
      " 15  distance_unit                 73573 non-null  object        \n",
      " 16  road_grade                    73020 non-null  object        \n",
      " 17  nontraffic                    84278 non-null  object        \n",
      " 18  road_name                     73573 non-null  object        \n",
      " 19  cross_street_type             73044 non-null  object        \n",
      " 20  cross_street_name             73568 non-null  object        \n",
      " 21  off_road_description          10703 non-null  object        \n",
      " 22  municipality                  9034 non-null   object        \n",
      " 23  related_non_motorist          4604 non-null   object        \n",
      " 24  at_fault                      84278 non-null  object        \n",
      " 25  collision_type                83848 non-null  object        \n",
      " 26  weather                       77300 non-null  object        \n",
      " 27  surface_condition             71513 non-null  object        \n",
      " 28  light                         83573 non-null  object        \n",
      " 29  traffic_control               69698 non-null  object        \n",
      " 30  driver_substance_abuse        70786 non-null  object        \n",
      " 31  non_motorist_substance_abuse  3650 non-null   object        \n",
      " 32  first_harmful_event           83740 non-null  object        \n",
      " 33  second_harmful_event          21237 non-null  object        \n",
      " 34  fixed_oject_struck            17886 non-null  object        \n",
      " 35  junction                      61822 non-null  object        \n",
      " 36  intersection_type             41587 non-null  object        \n",
      " 37  intersection_area             23084 non-null  object        \n",
      " 38  road_alignment                73212 non-null  object        \n",
      " 39  road_condition                70571 non-null  object        \n",
      " 40  road_division                 72513 non-null  object        \n",
      " 41  latitude                      84278 non-null  float64       \n",
      " 42  longitude                     84278 non-null  float64       \n",
      " 43  location                      84278 non-null  object        \n",
      "dtypes: datetime64[ns](1), float64(4), int64(2), object(37)\n",
      "memory usage: 28.3+ MB\n"
     ]
    }
   ],
   "source": [
    "df.info()"
   ]
  },
  {
   "cell_type": "code",
   "execution_count": 10,
   "id": "294c29b5-941e-42eb-8e79-e4aab78bb05e",
   "metadata": {},
   "outputs": [
    {
     "data": {
      "text/plain": [
       "report_number                    0.000000\n",
       "local_case_number                0.000000\n",
       "agency_name                      0.000000\n",
       "acrs_report_type                 0.000000\n",
       "crash_date/time                  0.000000\n",
       "hit/run                          0.002373\n",
       "route_type                      13.310710\n",
       "mile_point                      12.713876\n",
       "mile_point_direction            13.297658\n",
       "lane_direction                  12.700823\n",
       "lane_number                      0.000000\n",
       "lane_type                       90.328437\n",
       "number_of_lanes                  0.000000\n",
       "direction                       12.713876\n",
       "distance                        10.500961\n",
       "distance_unit                   12.702010\n",
       "road_grade                      13.358172\n",
       "nontraffic                       0.000000\n",
       "road_name                       12.702010\n",
       "cross_street_type               13.329695\n",
       "cross_street_name               12.707943\n",
       "off_road_description            87.300363\n",
       "municipality                    89.280714\n",
       "related_non_motorist            94.537127\n",
       "at_fault                         0.000000\n",
       "collision_type                   0.510216\n",
       "weather                          8.279741\n",
       "surface_condition               15.146302\n",
       "light                            0.836517\n",
       "traffic_control                 17.299888\n",
       "driver_substance_abuse          16.008923\n",
       "non_motorist_substance_abuse    95.669095\n",
       "first_harmful_event              0.638364\n",
       "second_harmful_event            74.801253\n",
       "fixed_oject_struck              78.777380\n",
       "junction                        26.645151\n",
       "intersection_type               50.654975\n",
       "intersection_area               72.609696\n",
       "road_alignment                  13.130354\n",
       "road_condition                  16.264031\n",
       "road_division                   13.959752\n",
       "latitude                         0.000000\n",
       "longitude                        0.000000\n",
       "location                         0.000000\n",
       "dtype: float64"
      ]
     },
     "metadata": {},
     "output_type": "display_data"
    }
   ],
   "source": [
    "original_null_percentages= df.isnull().sum()/len(df)*100\n",
    "display(original_null_percentages)"
   ]
  },
  {
   "cell_type": "markdown",
   "id": "4695efa6-ed29-46c1-afce-53345ec3f40b",
   "metadata": {},
   "source": [
    "After checking the percentage of missing values for the columns, we dropped the columns with a percentage greater than 20% and also those that were irrelevant to our analysis.\n",
    "We also made sure to keep the columns that were relevant to our business questions"
   ]
  },
  {
   "cell_type": "code",
   "execution_count": 11,
   "id": "1a11b604-df55-4053-8955-aaf1e63aea1c",
   "metadata": {},
   "outputs": [],
   "source": [
    "columns_to_drop=['lane_type', 'off_road_description', 'municipality', 'related_non_motorist', 'non_motorist_substance_abuse',\n",
    "                 'first_harmful_event', 'second_harmful_event', 'fixed_oject_struck', 'junction', 'intersection_type', 'intersection_area', \n",
    "                 'route_type', 'mile_point_direction', 'lane_direction','direction', 'distance_unit' ,'road_name', 'cross_street_type', 'cross_street_name', \n",
    "                'surface_condition', 'traffic_control', 'driver_substance_abuse', 'road_alignment' , 'road_division', 'mile_point', 'distance']\n",
    "df.drop(columns_to_drop, axis=1, inplace= True)"
   ]
  },
  {
   "cell_type": "code",
   "execution_count": 12,
   "id": "75e82819-6450-4f2f-b10d-92fcbf8ecd54",
   "metadata": {},
   "outputs": [
    {
     "data": {
      "text/plain": [
       "report_number         0.000000\n",
       "local_case_number     0.000000\n",
       "agency_name           0.000000\n",
       "acrs_report_type      0.000000\n",
       "crash_date/time       0.000000\n",
       "hit/run               0.002373\n",
       "lane_number           0.000000\n",
       "number_of_lanes       0.000000\n",
       "road_grade           13.358172\n",
       "nontraffic            0.000000\n",
       "at_fault              0.000000\n",
       "collision_type        0.510216\n",
       "weather               8.279741\n",
       "light                 0.836517\n",
       "road_condition       16.264031\n",
       "latitude              0.000000\n",
       "longitude             0.000000\n",
       "location              0.000000\n",
       "dtype: float64"
      ]
     },
     "execution_count": 12,
     "metadata": {},
     "output_type": "execute_result"
    }
   ],
   "source": [
    "#rechecking the NaNs after dropping the columns with high percentage of missing values\n",
    "df.isnull().sum()/len(df)*100"
   ]
  },
  {
   "cell_type": "markdown",
   "id": "7ed38288-c8d5-42d7-b25e-f7e5205d9170",
   "metadata": {},
   "source": [
    "After checking the percentage of NaNs for the remaining columns, the percentages for the following columns were insignificant\n",
    "We decided to drop the NaNs from these columns."
   ]
  },
  {
   "cell_type": "code",
   "execution_count": 13,
   "id": "9b51bb41-7668-4271-9659-35ca5bbc790e",
   "metadata": {},
   "outputs": [],
   "source": [
    "df=df.dropna(subset=['hit/run', 'collision_type' , 'light'])"
   ]
  },
  {
   "cell_type": "code",
   "execution_count": 14,
   "id": "81a4a6fc-a682-4114-bd1b-52b52ee56984",
   "metadata": {},
   "outputs": [
    {
     "data": {
      "text/plain": [
       "report_number         0.000000\n",
       "local_case_number     0.000000\n",
       "agency_name           0.000000\n",
       "acrs_report_type      0.000000\n",
       "crash_date/time       0.000000\n",
       "hit/run               0.000000\n",
       "lane_number           0.000000\n",
       "number_of_lanes       0.000000\n",
       "road_grade           13.155015\n",
       "nontraffic            0.000000\n",
       "at_fault              0.000000\n",
       "collision_type        0.000000\n",
       "weather               8.064031\n",
       "light                 0.000000\n",
       "road_condition       16.041469\n",
       "latitude              0.000000\n",
       "longitude             0.000000\n",
       "location              0.000000\n",
       "dtype: float64"
      ]
     },
     "execution_count": 14,
     "metadata": {},
     "output_type": "execute_result"
    }
   ],
   "source": [
    "df.isnull().sum()/len(df)*100"
   ]
  },
  {
   "cell_type": "code",
   "execution_count": 15,
   "id": "343059fb-2410-4f9a-98d7-c097f0d8462c",
   "metadata": {},
   "outputs": [
    {
     "data": {
      "text/plain": [
       "light\n",
       "daylight                    54747\n",
       "dark lights on              20091\n",
       "dark no lights               3001\n",
       "dusk                         1904\n",
       "dawn                         1692\n",
       "dark -- unknown lighting      929\n",
       "unknown                       597\n",
       "other                         186\n",
       "Name: count, dtype: int64"
      ]
     },
     "execution_count": 15,
     "metadata": {},
     "output_type": "execute_result"
    }
   ],
   "source": [
    "df['light'].value_counts(dropna=False)"
   ]
  },
  {
   "cell_type": "code",
   "execution_count": 16,
   "id": "4d7bd247-8a0f-4010-8eeb-cb4458c0cfca",
   "metadata": {},
   "outputs": [
    {
     "data": {
      "text/plain": [
       "collision_type\n",
       "same dir rear end               22330\n",
       "single vehicle                  13914\n",
       "straight movement angle         12949\n",
       "other                           11356\n",
       "same direction sideswipe         7454\n",
       "head on left turn                5425\n",
       "head on                          1767\n",
       "same direction right turn        1664\n",
       "same direction left turn         1569\n",
       "opposite direction sideswipe     1360\n",
       "angle meets left turn             840\n",
       "unknown                           610\n",
       "angle meets right turn            522\n",
       "same dir rend right turn          330\n",
       "same dir rend left turn           324\n",
       "angle meets left head on          302\n",
       "same dir both left turn           290\n",
       "opposite dir both left turn       141\n",
       "Name: count, dtype: int64"
      ]
     },
     "execution_count": 16,
     "metadata": {},
     "output_type": "execute_result"
    }
   ],
   "source": [
    "df['collision_type'].value_counts(dropna=False)"
   ]
  },
  {
   "cell_type": "markdown",
   "id": "e8230b91-654f-4c2a-b803-4d5374206231",
   "metadata": {},
   "source": [
    "After checking the value counts for the columns that are significant to our business questions, we decided to drop the NaN values from the road_condition and check its effect on the remaining columns"
   ]
  },
  {
   "cell_type": "code",
   "execution_count": 17,
   "id": "438e7683-1d38-46e7-a575-f9e166aa0a25",
   "metadata": {},
   "outputs": [
    {
     "data": {
      "text/plain": [
       "road_condition\n",
       "no defects                  68653\n",
       "NaN                         13338\n",
       "other                         310\n",
       "holes ruts etc                267\n",
       "unknown                       171\n",
       "loose surface material        147\n",
       "foreign material              108\n",
       "view obstructed                68\n",
       "shoulder defect                62\n",
       "obstruction not lighted        14\n",
       "obstruction not signaled        9\n",
       "Name: count, dtype: int64"
      ]
     },
     "metadata": {},
     "output_type": "display_data"
    }
   ],
   "source": [
    "# Displaying the value counts for road_condition\n",
    "display(df['road_condition'].value_counts(dropna=False))"
   ]
  },
  {
   "cell_type": "code",
   "execution_count": 18,
   "id": "8cf6e68c-d6b9-4fe5-be02-35e657ce8011",
   "metadata": {},
   "outputs": [
    {
     "data": {
      "text/plain": [
       "road_condition\n",
       "no defects                  68653\n",
       "holes ruts etc               5733\n",
       "loose surface material       3156\n",
       "foreign material             2319\n",
       "view obstructed              1460\n",
       "shoulder defect              1331\n",
       "obstruction not lighted       301\n",
       "obstruction not signaled      194\n",
       "Name: count, dtype: int64"
      ]
     },
     "metadata": {},
     "output_type": "display_data"
    }
   ],
   "source": [
    "# Replace 'unknown', 'other', and NaN values with 'invalid'\n",
    "df['road_condition'] = df['road_condition'].replace(['unknown', 'other', np.nan], 'invalid')\n",
    "\n",
    "# Calculate the sum of 'invalid' values\n",
    "sum_invalid_values = (df['road_condition'] == 'invalid').sum()\n",
    "\n",
    "# Displaying the current counts for the categories that are not invalid\n",
    "unique_values = df['road_condition'][~df['road_condition'].isin(['invalid', 'no defects'])].value_counts()\n",
    "\n",
    "# Calculate the total count of other values (excluding 'invalid' and 'no defects')\n",
    "other_values_count = df['road_condition'][~df['road_condition'].isin(['invalid', 'no defects'])].count()\n",
    "\n",
    "# Finding the amount of invalids to be replaced for each category\n",
    "distribution_amounts = (unique_values / other_values_count) * sum_invalid_values\n",
    "distribution_amounts= distribution_amounts.round(0)\n",
    "distribution_amounts['obstruction not signaled']+=1\n",
    "\n",
    "# Applying the function to clean the road_condition column and replace the invalid values\n",
    "for key, value in distribution_amounts.items():\n",
    "    replace_invalids_of_column(df, int(value), key, 'road_condition')\n",
    "\n",
    "display(df['road_condition'].value_counts(dropna=False))"
   ]
  },
  {
   "cell_type": "code",
   "execution_count": 19,
   "id": "f0ceb0ba-9459-4c06-abdf-10388a4a951f",
   "metadata": {},
   "outputs": [
    {
     "data": {
      "text/plain": [
       "road_grade\n",
       "level             54788\n",
       "NaN               10938\n",
       "grade downhill     8656\n",
       "hill uphill        6401\n",
       "hill crest         1909\n",
       "other               169\n",
       "unknown             117\n",
       "dip sag             105\n",
       "on bridge            64\n",
       "Name: count, dtype: int64"
      ]
     },
     "execution_count": 19,
     "metadata": {},
     "output_type": "execute_result"
    }
   ],
   "source": [
    "# Displaying the value counts for road_grade\n",
    "df['road_grade'].value_counts(dropna=False)"
   ]
  },
  {
   "cell_type": "code",
   "execution_count": 20,
   "id": "ac1347b3-6e88-4e88-96dd-a736815aea42",
   "metadata": {},
   "outputs": [
    {
     "data": {
      "text/plain": [
       "road_grade\n",
       "level             63338\n",
       "grade downhill    10007\n",
       "hill uphill        7400\n",
       "hill crest         2207\n",
       "dip sag             121\n",
       "on bridge            74\n",
       "Name: count, dtype: int64"
      ]
     },
     "metadata": {},
     "output_type": "display_data"
    }
   ],
   "source": [
    "# Replace 'unknown', 'other', and NaN values with 'invalid'\n",
    "df['road_grade'] = df['road_grade'].replace(['unknown', 'other', np.nan], 'invalid')\n",
    "\n",
    "# Calculate the sum of 'invalid' values\n",
    "sum_invalid_values = (df['road_grade'] == 'invalid').sum()\n",
    "\n",
    "# Displaying the current counts for the categories that are not invalid\n",
    "unique_values = df['road_grade'][~df['road_grade'].isin(['invalid'])].value_counts()\n",
    "\n",
    "# Calculate the total count of other values (excluding 'invalid')\n",
    "other_values_count = df['road_grade'][~df['road_grade'].isin(['invalid'])].count()\n",
    "\n",
    "# Finding the amount of invalids to be replaced for each category\n",
    "distribution_amounts = (unique_values / other_values_count) * sum_invalid_values\n",
    "distribution_amounts= distribution_amounts.round(0)\n",
    "\n",
    "# Applying the function to clean the road_grade column and replace the invalid values\n",
    "for key, value in distribution_amounts.items():\n",
    "    replace_invalids_of_column(df, int(value), key, 'road_grade')\n",
    "\n",
    "display(df['road_grade'].value_counts(dropna=False))"
   ]
  },
  {
   "cell_type": "code",
   "execution_count": 21,
   "id": "d2333efe-7c77-4143-909e-716f284fb9bd",
   "metadata": {},
   "outputs": [
    {
     "data": {
      "text/plain": [
       "light\n",
       "daylight                    54747\n",
       "dark lights on              20091\n",
       "dark no lights               3001\n",
       "dusk                         1904\n",
       "dawn                         1692\n",
       "dark -- unknown lighting      929\n",
       "unknown                       597\n",
       "other                         186\n",
       "Name: count, dtype: int64"
      ]
     },
     "execution_count": 21,
     "metadata": {},
     "output_type": "execute_result"
    }
   ],
   "source": [
    "# Displaying the value counts for light\n",
    "df['light'].value_counts(dropna=False)"
   ]
  },
  {
   "cell_type": "code",
   "execution_count": 22,
   "id": "7d653af7-5bd9-424f-85f6-fafa423bc8d1",
   "metadata": {},
   "outputs": [
    {
     "data": {
      "text/plain": [
       "weather\n",
       "clear                       55580\n",
       "raining                     10012\n",
       "cloudy                       8416\n",
       "NaN                          6705\n",
       "snow                          853\n",
       "unknown                       539\n",
       "foggy                         342\n",
       "wintry mix                    241\n",
       "other                         182\n",
       "sleet                         119\n",
       "severe winds                   84\n",
       "blowing snow                   67\n",
       "blowing sand, soil, dirt        7\n",
       "Name: count, dtype: int64"
      ]
     },
     "execution_count": 22,
     "metadata": {},
     "output_type": "execute_result"
    }
   ],
   "source": [
    "# Displaying the value counts for weather\n",
    "df['weather'].value_counts(dropna=False)"
   ]
  },
  {
   "cell_type": "code",
   "execution_count": 23,
   "id": "374e5525-e2a4-49e3-8e0d-ef1b5fa22ef9",
   "metadata": {},
   "outputs": [
    {
     "data": {
      "text/plain": [
       "weather\n",
       "clear                       61029\n",
       "raining                     10994\n",
       "cloudy                       9241\n",
       "snow                          937\n",
       "foggy                         376\n",
       "wintry mix                    265\n",
       "sleet                         131\n",
       "severe winds                   92\n",
       "blowing snow                   74\n",
       "blowing sand, soil, dirt        8\n",
       "Name: count, dtype: int64"
      ]
     },
     "metadata": {},
     "output_type": "display_data"
    }
   ],
   "source": [
    "# Replace 'unknown', 'other', and NaN values with 'invalid'\n",
    "df['weather'] = df['weather'].replace(['unknown', 'other', np.nan], 'invalid')\n",
    "\n",
    "# Calculate the sum of 'invalid' values\n",
    "sum_invalid_values = (df['weather'] == 'invalid').sum()\n",
    "\n",
    "# Displaying the current counts for the categories that are not invalid\n",
    "unique_values = df['weather'][~df['weather'].isin(['invalid'])].value_counts()\n",
    "\n",
    "# Calculate the total count of other values (excluding 'invalid')\n",
    "other_values_count = df['weather'][~df['weather'].isin(['invalid'])].count()\n",
    "\n",
    "# Finding the amount of invalids to be replaced for each category\n",
    "distribution_amounts = (unique_values / other_values_count) * sum_invalid_values\n",
    "distribution_amounts= distribution_amounts.round(0)\n",
    "distribution_amounts['clear']-=2\n",
    "\n",
    "# Applying the function to clean the weather column and replace the invalid values\n",
    "for key, value in distribution_amounts.items():\n",
    "    replace_invalids_of_column(df, int(value), key, 'weather')\n",
    "\n",
    "display(df['weather'].value_counts(dropna=False))"
   ]
  },
  {
   "cell_type": "code",
   "execution_count": 24,
   "id": "a6644cd6-c2fe-43e2-a30f-516f8ff82b56",
   "metadata": {},
   "outputs": [
    {
     "data": {
      "text/plain": [
       "collision_type\n",
       "same direction rear end               22330\n",
       "single vehicle                        13914\n",
       "straight movement angle               12949\n",
       "other                                 11356\n",
       "same direction sideswipe               7454\n",
       "head on left turn                      5425\n",
       "head on                                1767\n",
       "same direction right turn              1664\n",
       "same direction left turn               1569\n",
       "opposite direction sideswipe           1360\n",
       "angle meets left turn                   840\n",
       "unknown                                 610\n",
       "angle meets right turn                  522\n",
       "same direction rear end right turn      330\n",
       "same direction rear end left turn       324\n",
       "angle meets left head on                302\n",
       "same direction both left turn           290\n",
       "opposite direction both left turn       141\n",
       "Name: count, dtype: int64"
      ]
     },
     "metadata": {},
     "output_type": "display_data"
    }
   ],
   "source": [
    "df= clean_collision_type(df)\n",
    "display(df['collision_type'].value_counts(dropna=False))"
   ]
  },
  {
   "cell_type": "code",
   "execution_count": 25,
   "id": "e76ee685-f319-491a-9971-cdd5414027e9",
   "metadata": {},
   "outputs": [
    {
     "data": {
      "text/plain": [
       "collision_type\n",
       "same direction rear end               26083\n",
       "single vehicle                        16253\n",
       "straight movement angle               15126\n",
       "same direction sideswipe               8707\n",
       "head on left turn                      6337\n",
       "head on                                2064\n",
       "same direction right turn              1944\n",
       "same direction left turn               1833\n",
       "opposite direction sideswipe           1589\n",
       "angle meets left turn                   981\n",
       "angle meets right turn                  610\n",
       "same direction rear end right turn      385\n",
       "same direction rear end left turn       378\n",
       "angle meets left head on                353\n",
       "same direction both left turn           339\n",
       "opposite direction both left turn       165\n",
       "Name: count, dtype: int64"
      ]
     },
     "metadata": {},
     "output_type": "display_data"
    }
   ],
   "source": [
    "# Replace 'unknown' and 'other' with 'invalid'\n",
    "df['collision_type'] = df['collision_type'].replace(['unknown', 'other'], 'invalid')\n",
    "\n",
    "# Calculate the sum of 'invalid' values\n",
    "sum_invalid_values = (df['collision_type'] == 'invalid').sum()\n",
    "\n",
    "# Displaying the current counts for the categories that are not invalid\n",
    "unique_values = df['collision_type'][~df['collision_type'].isin(['invalid'])].value_counts()\n",
    "\n",
    "# Calculate the total count of other values (excluding 'invalid')\n",
    "other_values_count = df['collision_type'][~df['collision_type'].isin(['invalid'])].count()\n",
    "\n",
    "\n",
    "# Finding the amount of invalids to be replaced for each category\n",
    "distribution_amounts = (unique_values / other_values_count) * sum_invalid_values\n",
    "distribution_amounts= distribution_amounts.round(0)\n",
    "\n",
    "distribution_amounts['same direction rear end']-=1\n",
    "\n",
    "# Applying the function to clean the collision_type column and replace the invalid values\n",
    "for key, value in distribution_amounts.items():\n",
    "    replace_invalids_of_column(df, int(value), key, 'collision_type')\n",
    "\n",
    "display(df['collision_type'].value_counts(dropna=False))"
   ]
  },
  {
   "cell_type": "code",
   "execution_count": 26,
   "id": "0b6a77f5-acf7-444f-a305-7a05cc500c56",
   "metadata": {},
   "outputs": [
    {
     "data": {
      "text/plain": [
       "report_number        0.0\n",
       "local_case_number    0.0\n",
       "agency_name          0.0\n",
       "acrs_report_type     0.0\n",
       "crash_date/time      0.0\n",
       "hit/run              0.0\n",
       "lane_number          0.0\n",
       "number_of_lanes      0.0\n",
       "road_grade           0.0\n",
       "nontraffic           0.0\n",
       "at_fault             0.0\n",
       "collision_type       0.0\n",
       "weather              0.0\n",
       "light                0.0\n",
       "road_condition       0.0\n",
       "latitude             0.0\n",
       "longitude            0.0\n",
       "location             0.0\n",
       "dtype: float64"
      ]
     },
     "execution_count": 26,
     "metadata": {},
     "output_type": "execute_result"
    }
   ],
   "source": [
    "# final check \n",
    "df.isnull().sum()/len(df)*100"
   ]
  },
  {
   "cell_type": "code",
   "execution_count": 27,
   "id": "8f5ee3bd-0eea-4b04-97bf-0c272d4ba786",
   "metadata": {},
   "outputs": [],
   "source": [
    "df.to_csv('..\\data\\clean_crash_data.csv',index = False)"
   ]
  },
  {
   "cell_type": "code",
   "execution_count": 28,
   "id": "7a6af330-1a63-4191-8e06-8c6b50ed103a",
   "metadata": {},
   "outputs": [
    {
     "name": "stdout",
     "output_type": "stream",
     "text": [
      " Volume in drive D has no label.\n",
      " Volume Serial Number is 089C-0519\n",
      "\n",
      " Directory of D:\\Ironhack\\Classwork\\Week_4\\Day_5\\project_folder\\notebooks\n",
      "\n",
      "12/22/2023  04:33 AM    <DIR>          .\n",
      "12/22/2023  04:33 AM    <DIR>          ..\n",
      "12/22/2023  03:15 AM    <DIR>          .ipynb_checkpoints\n",
      "12/22/2023  04:33 AM            15,876 Data_Agg_and_EDA.ipynb\n",
      "12/21/2023  03:12 PM            18,798 data_cleaning_and_formatting.ipynb\n",
      "12/22/2023  08:31 AM             3,116 functions.py\n",
      "12/22/2023  04:28 AM             2,785 hypothesis_testing.ipynb\n",
      "12/21/2023  02:47 PM    <DIR>          __pycache__\n",
      "               4 File(s)         40,575 bytes\n",
      "               4 Dir(s)  525,151,133,696 bytes free\n"
     ]
    }
   ],
   "source": [
    "!dir"
   ]
  },
  {
   "cell_type": "code",
   "execution_count": 29,
   "id": "bb73bca8-78c3-47e0-b953-70732fb30ff4",
   "metadata": {},
   "outputs": [
    {
     "data": {
      "text/html": [
       "<div>\n",
       "<style scoped>\n",
       "    .dataframe tbody tr th:only-of-type {\n",
       "        vertical-align: middle;\n",
       "    }\n",
       "\n",
       "    .dataframe tbody tr th {\n",
       "        vertical-align: top;\n",
       "    }\n",
       "\n",
       "    .dataframe thead th {\n",
       "        text-align: right;\n",
       "    }\n",
       "</style>\n",
       "<table border=\"1\" class=\"dataframe\">\n",
       "  <thead>\n",
       "    <tr style=\"text-align: right;\">\n",
       "      <th></th>\n",
       "      <th>report_number</th>\n",
       "      <th>local_case_number</th>\n",
       "      <th>agency_name</th>\n",
       "      <th>acrs_report_type</th>\n",
       "      <th>crash_date/time</th>\n",
       "      <th>hit/run</th>\n",
       "      <th>lane_number</th>\n",
       "      <th>number_of_lanes</th>\n",
       "      <th>road_grade</th>\n",
       "      <th>nontraffic</th>\n",
       "      <th>at_fault</th>\n",
       "      <th>collision_type</th>\n",
       "      <th>weather</th>\n",
       "      <th>light</th>\n",
       "      <th>road_condition</th>\n",
       "      <th>latitude</th>\n",
       "      <th>longitude</th>\n",
       "      <th>location</th>\n",
       "    </tr>\n",
       "  </thead>\n",
       "  <tbody>\n",
       "    <tr>\n",
       "      <th>0</th>\n",
       "      <td>mcp3048005t</td>\n",
       "      <td>190046316</td>\n",
       "      <td>montgomery</td>\n",
       "      <td>property damage crash</td>\n",
       "      <td>2019-09-27 09:38:00</td>\n",
       "      <td>no</td>\n",
       "      <td>0</td>\n",
       "      <td>0</td>\n",
       "      <td>level</td>\n",
       "      <td>yes</td>\n",
       "      <td>driver</td>\n",
       "      <td>single vehicle</td>\n",
       "      <td>clear</td>\n",
       "      <td>daylight</td>\n",
       "      <td>foreign material</td>\n",
       "      <td>39.026700</td>\n",
       "      <td>-77.136785</td>\n",
       "      <td>(39.0267, -77.136785)</td>\n",
       "    </tr>\n",
       "    <tr>\n",
       "      <th>1</th>\n",
       "      <td>dm8376000z</td>\n",
       "      <td>210002024</td>\n",
       "      <td>takoma</td>\n",
       "      <td>property damage crash</td>\n",
       "      <td>2021-01-16 21:24:00</td>\n",
       "      <td>no</td>\n",
       "      <td>0</td>\n",
       "      <td>2</td>\n",
       "      <td>level</td>\n",
       "      <td>no</td>\n",
       "      <td>driver</td>\n",
       "      <td>same direction sideswipe</td>\n",
       "      <td>clear</td>\n",
       "      <td>dark lights on</td>\n",
       "      <td>no defects</td>\n",
       "      <td>38.979030</td>\n",
       "      <td>-77.015981</td>\n",
       "      <td>(38.97903039, -77.01598148)</td>\n",
       "    </tr>\n",
       "    <tr>\n",
       "      <th>2</th>\n",
       "      <td>mcp12050078</td>\n",
       "      <td>210038391</td>\n",
       "      <td>montgomery</td>\n",
       "      <td>property damage crash</td>\n",
       "      <td>2021-09-27 15:00:00</td>\n",
       "      <td>yes</td>\n",
       "      <td>0</td>\n",
       "      <td>0</td>\n",
       "      <td>grade downhill</td>\n",
       "      <td>yes</td>\n",
       "      <td>driver</td>\n",
       "      <td>straight movement angle</td>\n",
       "      <td>clear</td>\n",
       "      <td>daylight</td>\n",
       "      <td>holes ruts etc</td>\n",
       "      <td>39.023680</td>\n",
       "      <td>-77.145418</td>\n",
       "      <td>(39.02367954, -77.14541849)</td>\n",
       "    </tr>\n",
       "    <tr>\n",
       "      <th>3</th>\n",
       "      <td>mcp003600g5</td>\n",
       "      <td>220000831</td>\n",
       "      <td>montgomery</td>\n",
       "      <td>property damage crash</td>\n",
       "      <td>2022-01-07 19:00:00</td>\n",
       "      <td>no</td>\n",
       "      <td>0</td>\n",
       "      <td>0</td>\n",
       "      <td>level</td>\n",
       "      <td>yes</td>\n",
       "      <td>unknown</td>\n",
       "      <td>single vehicle</td>\n",
       "      <td>clear</td>\n",
       "      <td>dark lights on</td>\n",
       "      <td>holes ruts etc</td>\n",
       "      <td>39.058047</td>\n",
       "      <td>-77.125307</td>\n",
       "      <td>(39.058047, -77.125307)</td>\n",
       "    </tr>\n",
       "    <tr>\n",
       "      <th>4</th>\n",
       "      <td>ej78460055</td>\n",
       "      <td>200017938</td>\n",
       "      <td>gaithersburg</td>\n",
       "      <td>property damage crash</td>\n",
       "      <td>2020-05-02 14:16:00</td>\n",
       "      <td>yes</td>\n",
       "      <td>0</td>\n",
       "      <td>0</td>\n",
       "      <td>level</td>\n",
       "      <td>yes</td>\n",
       "      <td>driver</td>\n",
       "      <td>straight movement angle</td>\n",
       "      <td>clear</td>\n",
       "      <td>daylight</td>\n",
       "      <td>holes ruts etc</td>\n",
       "      <td>39.147956</td>\n",
       "      <td>-77.229616</td>\n",
       "      <td>(39.14795617, -77.2296164)</td>\n",
       "    </tr>\n",
       "    <tr>\n",
       "      <th>...</th>\n",
       "      <td>...</td>\n",
       "      <td>...</td>\n",
       "      <td>...</td>\n",
       "      <td>...</td>\n",
       "      <td>...</td>\n",
       "      <td>...</td>\n",
       "      <td>...</td>\n",
       "      <td>...</td>\n",
       "      <td>...</td>\n",
       "      <td>...</td>\n",
       "      <td>...</td>\n",
       "      <td>...</td>\n",
       "      <td>...</td>\n",
       "      <td>...</td>\n",
       "      <td>...</td>\n",
       "      <td>...</td>\n",
       "      <td>...</td>\n",
       "      <td>...</td>\n",
       "    </tr>\n",
       "    <tr>\n",
       "      <th>83142</th>\n",
       "      <td>ha24980004</td>\n",
       "      <td>22001814</td>\n",
       "      <td>maryland</td>\n",
       "      <td>property damage crash</td>\n",
       "      <td>2022-10-13 14:30:00</td>\n",
       "      <td>yes</td>\n",
       "      <td>0</td>\n",
       "      <td>1</td>\n",
       "      <td>level</td>\n",
       "      <td>no</td>\n",
       "      <td>driver</td>\n",
       "      <td>single vehicle</td>\n",
       "      <td>raining</td>\n",
       "      <td>daylight</td>\n",
       "      <td>no defects</td>\n",
       "      <td>39.212050</td>\n",
       "      <td>-77.281670</td>\n",
       "      <td>(39.2120499, -77.2816699)</td>\n",
       "    </tr>\n",
       "    <tr>\n",
       "      <th>83143</th>\n",
       "      <td>mcp2708007t</td>\n",
       "      <td>220044172</td>\n",
       "      <td>montgomery</td>\n",
       "      <td>property damage crash</td>\n",
       "      <td>2022-10-09 19:45:00</td>\n",
       "      <td>yes</td>\n",
       "      <td>3</td>\n",
       "      <td>3</td>\n",
       "      <td>level</td>\n",
       "      <td>no</td>\n",
       "      <td>driver</td>\n",
       "      <td>same direction rear end</td>\n",
       "      <td>clear</td>\n",
       "      <td>dark lights on</td>\n",
       "      <td>no defects</td>\n",
       "      <td>39.046391</td>\n",
       "      <td>-76.986974</td>\n",
       "      <td>(39.04639108, -76.98697395)</td>\n",
       "    </tr>\n",
       "    <tr>\n",
       "      <th>83144</th>\n",
       "      <td>mcp21950059</td>\n",
       "      <td>220045530</td>\n",
       "      <td>montgomery</td>\n",
       "      <td>property damage crash</td>\n",
       "      <td>2022-10-17 12:55:00</td>\n",
       "      <td>yes</td>\n",
       "      <td>0</td>\n",
       "      <td>1</td>\n",
       "      <td>level</td>\n",
       "      <td>no</td>\n",
       "      <td>driver</td>\n",
       "      <td>same direction rear end</td>\n",
       "      <td>cloudy</td>\n",
       "      <td>daylight</td>\n",
       "      <td>no defects</td>\n",
       "      <td>39.104377</td>\n",
       "      <td>-77.157032</td>\n",
       "      <td>(39.10437667, -77.15703167)</td>\n",
       "    </tr>\n",
       "    <tr>\n",
       "      <th>83145</th>\n",
       "      <td>mcp2592002g</td>\n",
       "      <td>220045353</td>\n",
       "      <td>montgomery</td>\n",
       "      <td>injury crash</td>\n",
       "      <td>2022-10-16 11:00:00</td>\n",
       "      <td>no</td>\n",
       "      <td>1</td>\n",
       "      <td>1</td>\n",
       "      <td>level</td>\n",
       "      <td>no</td>\n",
       "      <td>driver</td>\n",
       "      <td>single vehicle</td>\n",
       "      <td>clear</td>\n",
       "      <td>daylight</td>\n",
       "      <td>loose surface material</td>\n",
       "      <td>39.207037</td>\n",
       "      <td>-77.182050</td>\n",
       "      <td>(39.20703667, -77.18205)</td>\n",
       "    </tr>\n",
       "    <tr>\n",
       "      <th>83146</th>\n",
       "      <td>mcp243600g3</td>\n",
       "      <td>220044966</td>\n",
       "      <td>montgomery</td>\n",
       "      <td>property damage crash</td>\n",
       "      <td>2022-09-15 20:00:00</td>\n",
       "      <td>yes</td>\n",
       "      <td>0</td>\n",
       "      <td>0</td>\n",
       "      <td>level</td>\n",
       "      <td>yes</td>\n",
       "      <td>driver</td>\n",
       "      <td>single vehicle</td>\n",
       "      <td>clear</td>\n",
       "      <td>dark -- unknown lighting</td>\n",
       "      <td>holes ruts etc</td>\n",
       "      <td>39.031226</td>\n",
       "      <td>-77.084876</td>\n",
       "      <td>(39.031226, -77.0848764)</td>\n",
       "    </tr>\n",
       "  </tbody>\n",
       "</table>\n",
       "<p>83147 rows × 18 columns</p>\n",
       "</div>"
      ],
      "text/plain": [
       "      report_number local_case_number   agency_name       acrs_report_type  \\\n",
       "0       mcp3048005t         190046316    montgomery  property damage crash   \n",
       "1        dm8376000z         210002024        takoma  property damage crash   \n",
       "2       mcp12050078         210038391    montgomery  property damage crash   \n",
       "3       mcp003600g5         220000831    montgomery  property damage crash   \n",
       "4        ej78460055         200017938  gaithersburg  property damage crash   \n",
       "...             ...               ...           ...                    ...   \n",
       "83142    ha24980004          22001814      maryland  property damage crash   \n",
       "83143   mcp2708007t         220044172    montgomery  property damage crash   \n",
       "83144   mcp21950059         220045530    montgomery  property damage crash   \n",
       "83145   mcp2592002g         220045353    montgomery           injury crash   \n",
       "83146   mcp243600g3         220044966    montgomery  property damage crash   \n",
       "\n",
       "           crash_date/time hit/run  lane_number  number_of_lanes  \\\n",
       "0      2019-09-27 09:38:00      no            0                0   \n",
       "1      2021-01-16 21:24:00      no            0                2   \n",
       "2      2021-09-27 15:00:00     yes            0                0   \n",
       "3      2022-01-07 19:00:00      no            0                0   \n",
       "4      2020-05-02 14:16:00     yes            0                0   \n",
       "...                    ...     ...          ...              ...   \n",
       "83142  2022-10-13 14:30:00     yes            0                1   \n",
       "83143  2022-10-09 19:45:00     yes            3                3   \n",
       "83144  2022-10-17 12:55:00     yes            0                1   \n",
       "83145  2022-10-16 11:00:00      no            1                1   \n",
       "83146  2022-09-15 20:00:00     yes            0                0   \n",
       "\n",
       "           road_grade nontraffic at_fault            collision_type  weather  \\\n",
       "0               level        yes   driver            single vehicle    clear   \n",
       "1               level         no   driver  same direction sideswipe    clear   \n",
       "2      grade downhill        yes   driver   straight movement angle    clear   \n",
       "3               level        yes  unknown            single vehicle    clear   \n",
       "4               level        yes   driver   straight movement angle    clear   \n",
       "...               ...        ...      ...                       ...      ...   \n",
       "83142           level         no   driver            single vehicle  raining   \n",
       "83143           level         no   driver   same direction rear end    clear   \n",
       "83144           level         no   driver   same direction rear end   cloudy   \n",
       "83145           level         no   driver            single vehicle    clear   \n",
       "83146           level        yes   driver            single vehicle    clear   \n",
       "\n",
       "                          light          road_condition   latitude  longitude  \\\n",
       "0                      daylight        foreign material  39.026700 -77.136785   \n",
       "1                dark lights on              no defects  38.979030 -77.015981   \n",
       "2                      daylight          holes ruts etc  39.023680 -77.145418   \n",
       "3                dark lights on          holes ruts etc  39.058047 -77.125307   \n",
       "4                      daylight          holes ruts etc  39.147956 -77.229616   \n",
       "...                         ...                     ...        ...        ...   \n",
       "83142                  daylight              no defects  39.212050 -77.281670   \n",
       "83143            dark lights on              no defects  39.046391 -76.986974   \n",
       "83144                  daylight              no defects  39.104377 -77.157032   \n",
       "83145                  daylight  loose surface material  39.207037 -77.182050   \n",
       "83146  dark -- unknown lighting          holes ruts etc  39.031226 -77.084876   \n",
       "\n",
       "                          location  \n",
       "0            (39.0267, -77.136785)  \n",
       "1      (38.97903039, -77.01598148)  \n",
       "2      (39.02367954, -77.14541849)  \n",
       "3          (39.058047, -77.125307)  \n",
       "4       (39.14795617, -77.2296164)  \n",
       "...                            ...  \n",
       "83142    (39.2120499, -77.2816699)  \n",
       "83143  (39.04639108, -76.98697395)  \n",
       "83144  (39.10437667, -77.15703167)  \n",
       "83145     (39.20703667, -77.18205)  \n",
       "83146     (39.031226, -77.0848764)  \n",
       "\n",
       "[83147 rows x 18 columns]"
      ]
     },
     "metadata": {},
     "output_type": "display_data"
    }
   ],
   "source": [
    "df_clean= pd.read_csv('..\\data\\clean_crash_data.csv')\n",
    "display(df_clean)"
   ]
  },
  {
   "cell_type": "code",
   "execution_count": 30,
   "id": "43ef754b-d9c1-4b77-961f-c100583af844",
   "metadata": {},
   "outputs": [
    {
     "data": {
      "text/html": [
       "<div>\n",
       "<style scoped>\n",
       "    .dataframe tbody tr th:only-of-type {\n",
       "        vertical-align: middle;\n",
       "    }\n",
       "\n",
       "    .dataframe tbody tr th {\n",
       "        vertical-align: top;\n",
       "    }\n",
       "\n",
       "    .dataframe thead th {\n",
       "        text-align: right;\n",
       "    }\n",
       "</style>\n",
       "<table border=\"1\" class=\"dataframe\">\n",
       "  <thead>\n",
       "    <tr style=\"text-align: right;\">\n",
       "      <th></th>\n",
       "      <th>crash_date/time</th>\n",
       "      <th>lane_number</th>\n",
       "      <th>number_of_lanes</th>\n",
       "      <th>latitude</th>\n",
       "      <th>longitude</th>\n",
       "    </tr>\n",
       "  </thead>\n",
       "  <tbody>\n",
       "    <tr>\n",
       "      <th>count</th>\n",
       "      <td>83147</td>\n",
       "      <td>83147.000000</td>\n",
       "      <td>83147.000000</td>\n",
       "      <td>83147.000000</td>\n",
       "      <td>83147.000000</td>\n",
       "    </tr>\n",
       "    <tr>\n",
       "      <th>mean</th>\n",
       "      <td>2018-09-10 19:39:11.172020480</td>\n",
       "      <td>1.212263</td>\n",
       "      <td>2.060928</td>\n",
       "      <td>39.084078</td>\n",
       "      <td>-77.114409</td>\n",
       "    </tr>\n",
       "    <tr>\n",
       "      <th>min</th>\n",
       "      <td>2015-01-01 00:30:00</td>\n",
       "      <td>0.000000</td>\n",
       "      <td>0.000000</td>\n",
       "      <td>37.720000</td>\n",
       "      <td>-79.486000</td>\n",
       "    </tr>\n",
       "    <tr>\n",
       "      <th>25%</th>\n",
       "      <td>2016-10-21 07:31:30</td>\n",
       "      <td>1.000000</td>\n",
       "      <td>1.000000</td>\n",
       "      <td>39.025289</td>\n",
       "      <td>-77.191313</td>\n",
       "    </tr>\n",
       "    <tr>\n",
       "      <th>50%</th>\n",
       "      <td>2018-07-27 15:24:00</td>\n",
       "      <td>1.000000</td>\n",
       "      <td>2.000000</td>\n",
       "      <td>39.075877</td>\n",
       "      <td>-77.107518</td>\n",
       "    </tr>\n",
       "    <tr>\n",
       "      <th>75%</th>\n",
       "      <td>2020-07-03 19:01:30</td>\n",
       "      <td>2.000000</td>\n",
       "      <td>3.000000</td>\n",
       "      <td>39.140613</td>\n",
       "      <td>-77.040659</td>\n",
       "    </tr>\n",
       "    <tr>\n",
       "      <th>max</th>\n",
       "      <td>2022-10-20 14:21:00</td>\n",
       "      <td>8.000000</td>\n",
       "      <td>99.000000</td>\n",
       "      <td>39.990414</td>\n",
       "      <td>-75.527708</td>\n",
       "    </tr>\n",
       "    <tr>\n",
       "      <th>std</th>\n",
       "      <td>NaN</td>\n",
       "      <td>0.977662</td>\n",
       "      <td>1.344392</td>\n",
       "      <td>0.073062</td>\n",
       "      <td>0.100115</td>\n",
       "    </tr>\n",
       "  </tbody>\n",
       "</table>\n",
       "</div>"
      ],
      "text/plain": [
       "                     crash_date/time   lane_number  number_of_lanes  \\\n",
       "count                          83147  83147.000000     83147.000000   \n",
       "mean   2018-09-10 19:39:11.172020480      1.212263         2.060928   \n",
       "min              2015-01-01 00:30:00      0.000000         0.000000   \n",
       "25%              2016-10-21 07:31:30      1.000000         1.000000   \n",
       "50%              2018-07-27 15:24:00      1.000000         2.000000   \n",
       "75%              2020-07-03 19:01:30      2.000000         3.000000   \n",
       "max              2022-10-20 14:21:00      8.000000        99.000000   \n",
       "std                              NaN      0.977662         1.344392   \n",
       "\n",
       "           latitude     longitude  \n",
       "count  83147.000000  83147.000000  \n",
       "mean      39.084078    -77.114409  \n",
       "min       37.720000    -79.486000  \n",
       "25%       39.025289    -77.191313  \n",
       "50%       39.075877    -77.107518  \n",
       "75%       39.140613    -77.040659  \n",
       "max       39.990414    -75.527708  \n",
       "std        0.073062      0.100115  "
      ]
     },
     "execution_count": 30,
     "metadata": {},
     "output_type": "execute_result"
    }
   ],
   "source": [
    "df.describe()"
   ]
  }
 ],
 "metadata": {
  "kernelspec": {
   "display_name": "venv",
   "language": "python",
   "name": "venv"
  },
  "language_info": {
   "codemirror_mode": {
    "name": "ipython",
    "version": 3
   },
   "file_extension": ".py",
   "mimetype": "text/x-python",
   "name": "python",
   "nbconvert_exporter": "python",
   "pygments_lexer": "ipython3",
   "version": "3.11.5"
  }
 },
 "nbformat": 4,
 "nbformat_minor": 5
}
