{
 "cells": [
  {
   "cell_type": "markdown",
   "id": "36382e48-12f1-4cc5-9657-bb4ac8ec1403",
   "metadata": {},
   "source": [
    "# Data Aggregating and EDA"
   ]
  },
  {
   "cell_type": "code",
   "execution_count": null,
   "id": "cee11871-0ff5-4191-a48f-7c0bfe8d6e63",
   "metadata": {},
   "outputs": [],
   "source": [
    "import pandas as pd\n",
    "import numpy as np\n",
    "import seaborn as sns\n",
    "import matplotlib.pyplot as plt"
   ]
  },
  {
   "cell_type": "code",
   "execution_count": null,
   "id": "888bbed3-c7be-4b2b-8d2a-acab0e3cb204",
   "metadata": {},
   "outputs": [],
   "source": [
    "df_clean= pd.read_csv('..\\data\\clean_crash_data.csv')\n",
    "display(df_clean)"
   ]
  },
  {
   "cell_type": "markdown",
   "id": "5d11e7f6-8116-4d31-ae58-7e0601d456e5",
   "metadata": {},
   "source": [
    "# 1) What are top 5 “Road Conditions” with most accidents? "
   ]
  },
  {
   "cell_type": "code",
   "execution_count": null,
   "id": "470f248c-db8f-41f2-b8a7-482eea78f83f",
   "metadata": {},
   "outputs": [],
   "source": [
    "road_condition_count = df_clean['road_condition'].value_counts().head(5)\n",
    "display(road_condition_count.to_frame())"
   ]
  },
  {
   "cell_type": "code",
   "execution_count": null,
   "id": "056ee689-40e3-433e-8849-6be8d6be89bd",
   "metadata": {},
   "outputs": [],
   "source": [
    "road_condition_count.index = ['No Defects', 'Holes, Ruts, etc..', 'Loose Surface Material', 'Foreign Material', 'View Obstructed']\n",
    "sns.barplot(x=road_condition_count.values, y=road_condition_count.index, orient='h',  palette='viridis')\n",
    "plt.title('Road Conditions Causing the Most Accidents')\n",
    "plt.xlabel('Number of Accidents')\n",
    "plt.ylabel('Road Condition')\n",
    "plt.show()"
   ]
  },
  {
   "cell_type": "code",
   "execution_count": null,
   "id": "be931791-61c6-4957-aa96-1bee36ff5572",
   "metadata": {},
   "outputs": [],
   "source": [
    "plt.figure(figsize=(10, 6))\n",
    "\n",
    "sns.lineplot(x=road_condition_count.index, y=road_condition_count.values, marker='o', color='skyblue', linewidth=2, markersize=8)\n",
    "\n",
    "# Customize the plot\n",
    "plt.title('Road Conditions Causing the Most Accidents', fontsize='14')\n",
    "plt.xlabel('Road Condition', fontsize='12')\n",
    "plt.ylabel('Number of Accidents',fontsize='12')\n",
    "plt.grid(True)\n",
    "plt.show()"
   ]
  },
  {
   "cell_type": "markdown",
   "id": "c5986725-f8be-4145-9681-c544b80d3f86",
   "metadata": {},
   "source": [
    "# 2) What are the top 5 most frequent  “'Collision Type”? "
   ]
  },
  {
   "cell_type": "code",
   "execution_count": null,
   "id": "30445ea5-0f3d-4463-abf0-032bc6e20011",
   "metadata": {},
   "outputs": [],
   "source": [
    "collision_type_count = df_clean['collision_type'].value_counts().head(5)\n",
    "display(collision_type_count.to_frame())"
   ]
  },
  {
   "cell_type": "code",
   "execution_count": null,
   "id": "3e09e1bf-8f6e-40ed-9457-f2b6cb597990",
   "metadata": {},
   "outputs": [],
   "source": [
    "collision_type_count.index = ['Same Direction Rear End', 'Single Vehicle', 'Straight Movement Angle', 'Other', 'Same Direction Sideswipe']\n",
    "sns.barplot(x=collision_type_count.values, y=collision_type_count.index, orient='h',  palette='viridis')\n",
    "plt.title('Most Frequent Collision Types', fontsize='14')\n",
    "plt.xlabel('Number of Accidents', fontsize='12')\n",
    "plt.ylabel('Collision Type', fontsize='12')\n",
    "plt.show()"
   ]
  },
  {
   "cell_type": "code",
   "execution_count": null,
   "id": "e7fb084e-e14a-4da1-9316-38297d4e974b",
   "metadata": {},
   "outputs": [],
   "source": [
    "plt.figure(figsize=(8, 8))\n",
    "colors = sns.color_palette(\"viridis\", n_colors=len(collision_type_count))\n",
    "plt.pie(collision_type_count, labels=['']*len(collision_type_count), autopct='%1.1f%%', startangle=90, colors=colors)\n",
    "plt.title('Most Frequent Collision Types', fontsize=14)\n",
    "\n",
    "\n",
    "# Add a legend\n",
    "plt.legend(title=\"Collision Type\", loc=\"upper right\", labels=collision_type_count.index)\n",
    "plt.show()"
   ]
  },
  {
   "cell_type": "markdown",
   "id": "f9696b53-62db-4beb-95d5-180cf2c7f930",
   "metadata": {},
   "source": [
    "# 3) What are the top 5 most frequent “Weather” conditions?"
   ]
  },
  {
   "cell_type": "code",
   "execution_count": null,
   "id": "8d18acf7-973f-4b20-8a34-58fed3d5781f",
   "metadata": {},
   "outputs": [],
   "source": [
    "weather_count = df_clean['weather'].value_counts().head(5)\n",
    "display(weather_count.to_frame())"
   ]
  },
  {
   "cell_type": "code",
   "execution_count": null,
   "id": "6ed76cff-9863-4e26-a532-c89c7241cb09",
   "metadata": {},
   "outputs": [],
   "source": [
    "weather_count.index = ['Clear', 'Raining', 'Cloudy', 'Snow' , 'Foggy']\n",
    "sns.barplot(x=weather_count.values, y=weather_count.index, orient='h',  palette='viridis')\n",
    "plt.title('Weather Conditions Resulting in the Most Accidents', fontsize='14')\n",
    "plt.xlabel('Number of Accidents', fontsize='12')\n",
    "plt.ylabel('Weather Conditions', fontsize='12')\n",
    "plt.show()"
   ]
  },
  {
   "cell_type": "code",
   "execution_count": null,
   "id": "981428f5-c28e-468f-a4d3-c42ad4a2de72",
   "metadata": {},
   "outputs": [],
   "source": [
    "plt.figure(figsize=(8, 8))\n",
    "colors = sns.color_palette(\"viridis\", n_colors=len(weather_count))\n",
    "plt.pie(weather_count, labels=['']*len(weather_count), autopct='%1.1f%%', startangle=90, colors=colors)\n",
    "plt.title('Weather Conditions Resulting in the Most Accidents', fontsize=14)\n",
    "\n",
    "# Add a legend\n",
    "plt.legend(title=\"Weather Conditions\", loc=\"upper right\", labels=weather_count.index)\n",
    "plt.show()"
   ]
  },
  {
   "cell_type": "markdown",
   "id": "af2d5767-574c-4596-9299-cf2252c0f3cf",
   "metadata": {},
   "source": [
    "# 4) What are the top 5 most frequent “'Light” conditions? "
   ]
  },
  {
   "cell_type": "code",
   "execution_count": null,
   "id": "a4fee040-4db0-4389-bf3c-29e89de7b5ac",
   "metadata": {},
   "outputs": [],
   "source": [
    "light_count = df_clean['light'].value_counts().head(5)\n",
    "display(light_count.to_frame())"
   ]
  },
  {
   "cell_type": "code",
   "execution_count": null,
   "id": "3800f045-a39b-4a3c-8146-0226373d6d44",
   "metadata": {},
   "outputs": [],
   "source": [
    "light_count.index = ['Daylight', 'Dark With Lights On', 'Dark With No Lights' , 'Dusk' , 'Dawn']\n",
    "sns.barplot(x=light_count.values, y=light_count.index, orient='h',  palette='viridis')\n",
    "plt.title('Light Conditions Resulting in the Most Accidents', fontsize='14')\n",
    "plt.xlabel('Number of Accidents', fontsize='12')\n",
    "plt.ylabel('Light Conditions', fontsize='12')\n",
    "plt.show()"
   ]
  },
  {
   "cell_type": "code",
   "execution_count": null,
   "id": "26f44daf-a285-4647-a2c8-5c9d3e162be1",
   "metadata": {},
   "outputs": [],
   "source": [
    "plt.figure(figsize=(8, 8))\n",
    "colors = sns.color_palette(\"viridis\", n_colors=len(light_count))\n",
    "plt.pie(light_count, labels=['']*len(light_count), autopct='%1.1f%%', startangle=90, colors=colors, pctdistance=0.9)\n",
    "plt.title('Light Conditions Resulting in the Most Accidents', fontsize=14)\n",
    "\n",
    "# Add a legend\n",
    "plt.legend(title=\"Light Conditions\", loc=\"upper right\", labels=weather_count.index)\n",
    "plt.show()"
   ]
  },
  {
   "cell_type": "markdown",
   "id": "43b12c3b-0c4c-4f71-b560-a7f15f561f12",
   "metadata": {},
   "source": [
    "# 5) What are the most frequent “Road Condition” and “Road grade”?"
   ]
  },
  {
   "cell_type": "code",
   "execution_count": null,
   "id": "9168e09d-68d3-4510-9fe5-9d3e40a9b0bf",
   "metadata": {},
   "outputs": [],
   "source": [
    "rc_and_rg = df_clean.pivot_table(index='road_condition', columns='road_grade', aggfunc='size', fill_value=0)\n",
    "display(rc_and_rg)\n",
    "# Find the most frequent combination for each road_type\n",
    "most_frequent_combination = rc_and_rg.idxmax(axis=1)"
   ]
  },
  {
   "cell_type": "code",
   "execution_count": null,
   "id": "ff3d5d3f-e444-476c-bf2c-7c587860fae7",
   "metadata": {},
   "outputs": [],
   "source": [
    "plt.figure(figsize=(12, 6))  # Adjust the figure size as needed\n",
    "sns.heatmap(rc_and_rg, annot=True, fmt='d', cmap='viridis')\n",
    "\n",
    "# Set plot labels and title\n",
    "plt.xlabel('Road Grade')\n",
    "plt.ylabel('Road Condition')\n",
    "plt.title('Heatmap of Road Type vs. Road Condition')\n",
    "\n",
    "# Show the plot\n",
    "plt.show()"
   ]
  },
  {
   "cell_type": "markdown",
   "id": "81d604b6-e6ef-4987-8dcf-fa9d6ade44ab",
   "metadata": {},
   "source": [
    "# 8) Get the evolution of the number of crashes per hour"
   ]
  },
  {
   "cell_type": "code",
   "execution_count": null,
   "id": "fe1c139c-ef37-4e0b-9a6d-a7f77d58eaa5",
   "metadata": {},
   "outputs": [],
   "source": [
    "df_clean['crash_date/time']=pd.to_datetime(df_clean['crash_date/time'])\n",
    "type(df_clean['crash_date/time'])\n",
    "df_clean['crash_date/time']\n",
    "\n",
    "df_clean['hour'] = df_clean['crash_date/time'].dt.hour\n",
    "\n",
    "# Group the data by hour and calculate the count of crashes\n",
    "crash_count_by_hour = df_clean.groupby('hour').size()\n",
    "display(sum(crash_count_by_hour))\n",
    "\n",
    "sns.set_palette('viridis')\n",
    "# Create a line plot to visualize the trend\n",
    "plt.plot(crash_count_by_hour.index, crash_count_by_hour.values, marker='o')\n",
    "plt.xlabel('Hour')\n",
    "plt.ylabel('Number of Crashes')\n",
    "plt.title('Evolution of the Number of Crashes per Hour')"
   ]
  },
  {
   "cell_type": "markdown",
   "id": "6ae1e905-2347-4786-8285-c200d2c006e5",
   "metadata": {},
   "source": [
    "# 6) How the number of crashes changes over day time?"
   ]
  },
  {
   "cell_type": "code",
   "execution_count": null,
   "id": "ca77f9ce-c0b8-47fd-b5c5-870b819e8291",
   "metadata": {},
   "outputs": [],
   "source": [
    "# Group the data by hour and calculate the count of crashes\n",
    "crash_count_by_hour = df_clean.groupby('hour').size()\n",
    "\n",
    "sns.set_palette('viridis')\n",
    "\n",
    "# Create a bar plot\n",
    "plt.bar(crash_count_by_hour.index, crash_count_by_hour.values)\n",
    "plt.xlabel('Hour')\n",
    "plt.ylabel('Number of Crashes')\n",
    "plt.title('Number of Crashes Over Daytime')\n",
    "plt.show()\n"
   ]
  },
  {
   "cell_type": "markdown",
   "id": "f371e61a-8c98-4bf1-a942-6dd3af10d6be",
   "metadata": {},
   "source": [
    "# 7) Which day of the week has more crashes?"
   ]
  },
  {
   "cell_type": "code",
   "execution_count": null,
   "id": "f4272bf3-ac07-413d-8424-3a0965793364",
   "metadata": {},
   "outputs": [],
   "source": [
    "# Extract the day of the week from the 'Timestamp' column\n",
    "df_clean['DayOfWeek'] = df_clean['crash_date/time'].dt.day_name()\n",
    "\n",
    "# Count the number of crashes per day of the week\n",
    "crash_count_by_day = df_clean['DayOfWeek'].value_counts()\n",
    "\n",
    "days_order = ['Monday', 'Tuesday', 'Wednesday', 'Thursday', 'Friday', 'Saturday', 'Sunday']\n",
    "crash_count_by_day = crash_count_by_day.reindex(days_order)\n",
    "\n",
    "plt.figure(figsize=(8, 4)) \n",
    "# Create a bar plot to visualize the number of crashes per day of the week\n",
    "plt.bar(crash_count_by_day.index, crash_count_by_day.values)\n",
    "plt.xlabel('Day of the Week', fontsize='12')\n",
    "plt.ylabel('Number of Crashes', fontsize='12')\n",
    "plt.title('Number of Crashes by Day of the Week', fontsize='14')\n",
    "\n",
    "plt.show()"
   ]
  },
  {
   "cell_type": "code",
   "execution_count": null,
   "id": "c452db3b-2e26-40af-be13-698b8eebfe02",
   "metadata": {},
   "outputs": [],
   "source": [
    "display(crash_count_by_day)"
   ]
  },
  {
   "cell_type": "code",
   "execution_count": null,
   "id": "5b33491e-9137-411b-a291-3489b9f8db5d",
   "metadata": {},
   "outputs": [],
   "source": [
    "# Create a line plot to visualize the number of crashes per day of the week\n",
    "plt.figure(figsize=(8, 4))\n",
    "plt.plot(crash_count_by_day.index, crash_count_by_day.values, marker='o', linestyle='-')\n",
    "plt.xlabel('Day of the Week', fontsize='12')\n",
    "plt.ylabel('Number of Crashes', fontsize='12')\n",
    "plt.title('Number of Crashes by Day of the Week', fontsize='14')\n",
    "\n",
    "plt.show()"
   ]
  },
  {
   "cell_type": "markdown",
   "id": "58a2682c-0234-4102-aa8b-c5d7a3af49db",
   "metadata": {},
   "source": [
    "# 9) Get the evolution of the number of crashes per year"
   ]
  },
  {
   "cell_type": "code",
   "execution_count": null,
   "id": "e7c03ba0-8952-4e40-9fe4-3d8269f0bb3a",
   "metadata": {},
   "outputs": [],
   "source": [
    "df_clean['Year'] = df_clean['crash_date/time'].dt.year\n",
    "\n",
    "# Count the number of crashes per year\n",
    "crash_count_by_year = df_clean['Year'].value_counts().sort_index()\n",
    "\n",
    "# Create a line plot to visualize the evolution of crashes per year\n",
    "plt.figure(figsize=(10, 6))\n",
    "plt.plot(crash_count_by_year.index, crash_count_by_year.values, marker='o', linestyle='-')\n",
    "plt.xlabel('Year', fontsize='12')\n",
    "plt.ylabel('Number of Crashes', fontsize='12')\n",
    "plt.title('Evolution of Crashes per Year', fontsize='14')\n",
    "plt.grid(True)\n",
    "plt.show()"
   ]
  },
  {
   "cell_type": "markdown",
   "id": "2163d024-5307-4a69-ab7c-5522a57c23df",
   "metadata": {},
   "source": [
    "# 10) Which agency has reported more crashes?"
   ]
  },
  {
   "cell_type": "code",
   "execution_count": null,
   "id": "a3eeb5c9-4387-4b48-9bc4-f0ad9229f632",
   "metadata": {},
   "outputs": [],
   "source": [
    "#Count the number of crashes reported by each agency\n",
    "crash_count_by_agency = df_clean['agency_name'].value_counts()\n",
    "\n",
    "#Create a bar plot to visualize the number of crashes reported by each agency\n",
    "plt.bar(crash_count_by_agency.index, crash_count_by_agency.values)\n",
    "plt.xlabel('Agency')\n",
    "plt.ylabel('Number of Crashes')\n",
    "plt.title('Number of Crashes Reported by Agency')\n",
    "\n",
    "plt.xticks(rotation=90)  # Rotate x-axis labels if needed\n",
    "plt.tight_layout()  # Adjust spacing if necessary\n",
    "\n",
    "plt.show()"
   ]
  },
  {
   "cell_type": "code",
   "execution_count": null,
   "id": "d2080ae6-182c-4e48-851c-4cd3d5baa461",
   "metadata": {},
   "outputs": [],
   "source": [
    "#Count the number of crashes reported by each agency\n",
    "crash_count_by_agency = df_clean['agency_name'].value_counts()\n",
    "\n",
    "# Sort the crash counts in ascending order by agency name\n",
    "crash_count_by_agency = crash_count_by_agency.sort_index()\n",
    "\n",
    "#Create a line plot to visualize the number of crashes reported by each agency\n",
    "plt.plot(crash_count_by_agency.index, crash_count_by_agency.values, marker='o')\n",
    "plt.xlabel('Agency')\n",
    "plt.ylabel('Number of Crashes')\n",
    "plt.title('Number of Crashes Reported by Agency')\n",
    "\n",
    "plt.xticks(rotation=90)  # Rotate x-axis labels if needed\n",
    "plt.tight_layout()  # Adjust spacing if necessary\n",
    "\n",
    "plt.show()\n"
   ]
  }
 ],
 "metadata": {
  "kernelspec": {
   "display_name": "venv",
   "language": "python",
   "name": "venv"
  },
  "language_info": {
   "codemirror_mode": {
    "name": "ipython",
    "version": 3
   },
   "file_extension": ".py",
   "mimetype": "text/x-python",
   "name": "python",
   "nbconvert_exporter": "python",
   "pygments_lexer": "ipython3",
   "version": "3.11.5"
  }
 },
 "nbformat": 4,
 "nbformat_minor": 5
}
