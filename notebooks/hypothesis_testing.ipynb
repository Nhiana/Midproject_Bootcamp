{
 "cells": [
  {
   "cell_type": "markdown",
   "id": "d3d4c4a6-a821-4ec6-b520-e9e34298fa93",
   "metadata": {},
   "source": [
    "# We could expect that the mean number of crashes over the weekends is bigger than during labour days. Make a two sample t-test to evaluate this hypothesis"
   ]
  },
  {
   "cell_type": "code",
   "execution_count": null,
   "id": "28d5b874-5da1-42a2-b6dc-dfe15a3fe266",
   "metadata": {},
   "outputs": [],
   "source": [
    "import pandas as pd\n",
    "import numpy as np\n",
    "import seaborn as sns\n",
    "import matplotlib.pyplot as plt\n",
    "import scipy"
   ]
  },
  {
   "cell_type": "code",
   "execution_count": null,
   "id": "165b7bdb-924b-4458-9c0b-4da5a1aafcbe",
   "metadata": {},
   "outputs": [],
   "source": [
    "df_clean= pd.read_csv('..\\data\\clean_crash_data.csv')\n",
    "display(df_clean.head())"
   ]
  },
  {
   "cell_type": "code",
   "execution_count": null,
   "id": "d62997c7-720a-4ef5-b874-6111672543a4",
   "metadata": {},
   "outputs": [],
   "source": [
    "from scipy.stats import ttest_ind\n",
    "df_hypothesis = df_clean.copy()\n",
    "\n",
    "df_hypothesis['crash_date/time'] = pd.to_datetime(df_hypothesis['crash_date/time'])\n",
    "df_hypothesis['day_of_week'] = df_hypothesis['crash_date/time'].dt.dayofweek\n",
    "df_hypothesis['is_weekend'] = (df_hypothesis['day_of_week'] >= 5).astype(int)\n",
    "\n",
    "crash_counts = df_hypothesis.groupby('is_weekend')['report_number'].count()\n",
    "\n",
    "# Separate data for weekends and weekdays\n",
    "weekend_counts = df_hypothesis[df_hypothesis['is_weekend'] == 1]['number_of_lanes']\n",
    "weekday_counts = df_hypothesis[df_hypothesis['is_weekend'] == 0]['number_of_lanes']\n",
    "\n",
    "# Perform the two-sample t-test\n",
    "stat, p_val = ttest_ind(weekend_counts, weekday_counts, alternative='less')\n",
    "\n",
    "# Output the results\n",
    "print(f'T-statistic: {stat:.3f}')\n",
    "print(f'P-value: {p_val:.3f}')\n",
    "\n",
    "critical_value = scipy.stats.t.ppf(0.05, df=len(df_hypothesis)-1)\n",
    "print(\"The critical value is {:.3f}\".format(critical_value))\n"
   ]
  },
  {
   "cell_type": "markdown",
   "id": "6b515662-6ade-4848-a5e8-24aaaf3654aa",
   "metadata": {},
   "source": [
    "P-values is less than alpha , therefore we reject the null hypothesis"
   ]
  }
 ],
 "metadata": {
  "kernelspec": {
   "display_name": "venv",
   "language": "python",
   "name": "venv"
  },
  "language_info": {
   "codemirror_mode": {
    "name": "ipython",
    "version": 3
   },
   "file_extension": ".py",
   "mimetype": "text/x-python",
   "name": "python",
   "nbconvert_exporter": "python",
   "pygments_lexer": "ipython3",
   "version": "3.11.5"
  }
 },
 "nbformat": 4,
 "nbformat_minor": 5
}
